{
 "cells": [
  {
   "cell_type": "code",
   "execution_count": 1,
   "metadata": {},
   "outputs": [],
   "source": [
    "import numpy as np\n",
    "import matplotlib.pyplot as plt\n",
    "import matplotlib.animation as ani"
   ]
  },
  {
   "cell_type": "code",
   "execution_count": 2,
   "metadata": {},
   "outputs": [],
   "source": [
    "#######################\n",
    "#\n",
    "#1-D wave equation with drag and stiffness\n",
    "#\n",
    "#   d^2y        dy       [  d^2y                d^4 y]\n",
    "#   ---- = -2b --- + c^2 [  ----  - epsilon*L^2  -----]\n",
    "#   dt^2        dt       [  dx^2                dx^4 ]\n",
    "#\n",
    "# where y = y(x,t) is the wave displacement and c is the wave speed.\n",
    "# \n"
   ]
  },
  {
   "cell_type": "code",
   "execution_count": 213,
   "metadata": {},
   "outputs": [
    {
     "name": "stdout",
     "output_type": "stream",
     "text": [
      "1329.639889196676\n"
     ]
    }
   ],
   "source": [
    "###Function definitions\n",
    "#constants\n",
    "N=1000; L=1.9;t0=0.0;tf=4.0;nt=100000; \n",
    "dt=(tf-t0)/nt\n",
    "x=np.arange(0,L,(L/N))\n",
    "dx=x[1]-x[0]\n",
    "c=120.0\n",
    "eps=.5e-7\n",
    "C=c*dt/dx**2\n",
    "s= -C*eps*(dx/dt)**2\n",
    "\n",
    "w0 = c/(2*L);w=L/10;amp = .1\n",
    "\n",
    "#RK4:\n",
    "b= -2*.5\n",
    "def deriv(u,v):\n",
    "    return(np.array([v,(v*b)+(-c**2)*((u)*C)]))\n",
    "\n",
    "print(C)"
   ]
  },
  {
   "cell_type": "markdown",
   "metadata": {},
   "source": [
    "\\begin{equation}\n",
    "    \\frac{\\partial^4 y}{\\partial x^4} = \\frac{y(x-2dx)-4y(x-dx)+6y(x)-4y(x+dx)+y(x+2dx)}{dx^4}\n",
    "\\end{equation}"
   ]
  },
  {
   "cell_type": "code",
   "execution_count": 214,
   "metadata": {
    "scrolled": true
   },
   "outputs": [
    {
     "name": "stdout",
     "output_type": "stream",
     "text": [
      "[0.         0.00475282 0.00028287 0.         0.         0.        ]\n"
     ]
    },
    {
     "data": {
      "image/png": "[encoded data removed]",
      "text/plain": [
       "<Figure size 432x288 with 1 Axes>"
      ]
     },
     "metadata": {
      "needs_background": "light"
     },
     "output_type": "display_data"
    },
    {
     "name": "stderr",
     "output_type": "stream",
     "text": [
      "<ipython-input-214-15325b694043>:18: RuntimeWarning: overflow encountered in multiply\n",
      "  u0[1:-1], u[1:-1] = u[1:-1], -b*u[1:-1]-u0[1:-1]+(C*(u0[2:]+u0[:-2]-2*u0[1:-1]))\n",
      "<ipython-input-214-15325b694043>:18: RuntimeWarning: invalid value encountered in subtract\n",
      "  u0[1:-1], u[1:-1] = u[1:-1], -b*u[1:-1]-u0[1:-1]+(C*(u0[2:]+u0[:-2]-2*u0[1:-1]))\n",
      "<ipython-input-214-15325b694043>:18: RuntimeWarning: overflow encountered in add\n",
      "  u0[1:-1], u[1:-1] = u[1:-1], -b*u[1:-1]-u0[1:-1]+(C*(u0[2:]+u0[:-2]-2*u0[1:-1]))\n",
      "<ipython-input-214-15325b694043>:18: RuntimeWarning: overflow encountered in subtract\n",
      "  u0[1:-1], u[1:-1] = u[1:-1], -b*u[1:-1]-u0[1:-1]+(C*(u0[2:]+u0[:-2]-2*u0[1:-1]))\n",
      "<ipython-input-214-15325b694043>:18: RuntimeWarning: invalid value encountered in add\n",
      "  u0[1:-1], u[1:-1] = u[1:-1], -b*u[1:-1]-u0[1:-1]+(C*(u0[2:]+u0[:-2]-2*u0[1:-1]))\n"
     ]
    },
    {
     "name": "stdout",
     "output_type": "stream",
     "text": [
      "[-0.00814202         nan         nan         nan         nan         nan]\n"
     ]
    },
    {
     "data": {
      "image/png": "[encoded data removed]",
      "text/plain": [
       "<Figure size 432x288 with 1 Axes>"
      ]
     },
     "metadata": {
      "needs_background": "light"
     },
     "output_type": "display_data"
    },
    {
     "name": "stdout",
     "output_type": "stream",
     "text": [
      "[0.01622997        nan        nan        nan        nan        nan]\n"
     ]
    },
    {
     "data": {
      "image/png": "[encoded data removed]",
      "text/plain": [
       "<Figure size 432x288 with 1 Axes>"
      ]
     },
     "metadata": {
      "needs_background": "light"
     },
     "output_type": "display_data"
    },
    {
     "name": "stdout",
     "output_type": "stream",
     "text": [
      "[0.03202957        nan        nan        nan        nan        nan]\n"
     ]
    },
    {
     "data": {
      "image/png": "[encoded data removed]",
      "text/plain": [
       "<Figure size 432x288 with 1 Axes>"
      ]
     },
     "metadata": {
      "needs_background": "light"
     },
     "output_type": "display_data"
    }
   ],
   "source": [
    "\n",
    "\n",
    "u=np.zeros(N,float)\n",
    "u0=u.copy()\n",
    "v=0.0*u\n",
    "\n",
    "a=.1\n",
    "drivef=w0/2\n",
    "u[0]=a*np.sin(dt);u[-1]=0; u[-1]=0;  v[0]=0;v[-1]=0\n",
    "v[1:-1]+=C*(u[2:]+u[0:-2]-2*u[1:-1])\n",
    "u[1:-1]+=dt*v[1:-1]\n",
    "\n",
    "u0=u.copy()\n",
    "\n",
    "\n",
    "\n",
    "#leapfrog\n",
    "for i in np.arange(0.0,tf+dt,dt):\n",
    "    u[0]=a*np.sin(drivef*i)\n",
    "    u0[1:-1], u[1:-1] = u[1:-1], -b*u[1:-1]-u0[1:-1]+(C*(u0[2:]+u0[:-2]-2*u0[1:-1]))\n",
    "    u0[0]=u[0];\n",
    "    if i in [0.0,1.0,2.0,3.0,4.0]:\n",
    "        print(u[0:6])\n",
    "        plt.plot(x,u)\n",
    "        plt.show()\n",
    "#     if i in [0.0,1.0,2.0,3.0,4.0,5.0,6.0,7.0,8.0]:\n",
    "#         plt.plot(x,u)\n",
    "plt.show()"
   ]
  },
  {
   "cell_type": "code",
   "execution_count": 46,
   "metadata": {},
   "outputs": [
    {
     "data": {
      "text/plain": [
       "18.726176756136212"
      ]
     },
     "execution_count": 46,
     "metadata": {},
     "output_type": "execute_result"
    }
   ],
   "source": [
    "-1.380115509216919e+307/-7.369980146986926e+305"
   ]
  },
  {
   "cell_type": "code",
   "execution_count": 274,
   "metadata": {},
   "outputs": [
    {
     "data": {
      "text/plain": [
       "0.6024533545173983"
      ]
     },
     "execution_count": 274,
     "metadata": {},
     "output_type": "execute_result"
    }
   ],
   "source": [
    "9.86481904650816e+306/1.6374411350751758e+307"
   ]
  },
  {
   "cell_type": "code",
   "execution_count": 217,
   "metadata": {},
   "outputs": [],
   "source": [
    "\n",
    "# Set the intial conditions, find the initial g and integrate in time\n",
    "\n",
    "t0 = 0; t1= 2.0; nt = 200000; dt = (t1 - t0)/nt \n",
    "epsilon= 7.5e-6\n",
    "\n",
    "# introduce the diffusion term\n",
    "b = .5\n",
    "D= -2*b\n",
    "\n",
    "#to vary initial position change p value 0-1 as a decimal percent between the two edges\n",
    "#to vary height change amp to desired amplitude value\n",
    "p=.35;amp=.1\n",
    "\n",
    "# u = ureset(N,p,amp); g = u.copy();\n",
    "# plt.plot(x,u)\n",
    "# plt.xlabel(r'$x$'); plt.ylabel(r'$u$'); plt.title('The initial pluck position for reference')\n",
    "# plt.show()\n",
    "\n",
    "\n",
    "\n",
    "# v = 0.0*g\n",
    "# kx2= (2*np.pi*(np.arange(N) + 1)/(2*L))**2\n",
    "# kx4=kx2**2\n",
    "# print(kx2[5])\n",
    "# #derivative function\n",
    "# def deriv(g,v):\n",
    "#     return(np.array([v,(v*D)+(-c**2)*((kx2*g)-((epsilon*L**2)*kx4*g))]))\n",
    "\n",
    "\n",
    "# for t in np.arange(t0,t1+dt,dt):  # Using 4th-order Runge-Kutta\n",
    "    \n",
    "#     k1 = dt*deriv(g,v)\n",
    "#     k2 = dt*deriv(g+0.5*k1[0,:],v+0.5*k1[1,:])\n",
    "#     k3 = dt*deriv(g+0.5*k2[0,:],v+0.5*k2[1,:])\n",
    "#     k4 = dt*deriv(g+k3[0,:],v+k3[1,:])\n",
    "#     step = (k1 + 2*k2 + 2*k3 + k4)/6\n",
    "#     g += step[0,:]; v += step[1,:]\n",
    "\n",
    "#     if np.abs(t-0.04) < dt/2 or np.abs(t-0.08) < dt/2 or np.abs(t-0.12) < dt/2 or \\\n",
    "#        np.abs(t-0.16) < dt/2 or np.abs(t-0.20) < dt/2:\n",
    "# #         print('Plotting at t=',t)\n",
    "#         u = fftsinei(g,x)\n",
    "#         plt.plot(x,g)\n",
    "    \n",
    "\n",
    "# #     if np.abs(t-1.95) < dt/2 or np.abs(t-1.96) < dt/2 or np.abs(t-1.97) < dt/2 or \\\n",
    "# #        np.abs(t-1.98) < dt/2 or np.abs(t-1.99) < dt/2 or np.abs(t-2.0) < dt/2:\n",
    "# # #         print('Plotting at t=',t)\n",
    "# #         u2 = fftsinei(g,x)\n",
    "# #         plt.plot(x,u2)      \n",
    "\n",
    "\n",
    "# plt.axis([0,L,-0.12,0.12])\n",
    "# plt.xlabel(r'$x$'); plt.ylabel(r'$u$'); plt.title('6 evenly spaced interval in the first .2 seconds')\n",
    "# plt.show() \n"
   ]
  },
  {
   "cell_type": "code",
   "execution_count": null,
   "metadata": {},
   "outputs": [],
   "source": []
  }
 ],
 "metadata": {
  "kernelspec": {
   "display_name": "Python 3",
   "language": "python",
   "name": "python3"
  },
  "language_info": {
   "codemirror_mode": {
    "name": "ipython",
    "version": 3
   },
   "file_extension": ".py",
   "mimetype": "text/x-python",
   "name": "python",
   "nbconvert_exporter": "python",
   "pygments_lexer": "ipython3",
   "version": "3.8.5"
  }
 },
 "nbformat": 4,
 "nbformat_minor": 4
}
